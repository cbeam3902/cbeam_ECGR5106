{
 "cells": [
  {
   "cell_type": "markdown",
   "id": "ccb0414e",
   "metadata": {},
   "source": [
    "Homework 2\n",
    "\n",
    "Christopher Beam\n",
    "\n",
    "800927396"
   ]
  },
  {
   "cell_type": "code",
   "execution_count": 3,
   "id": "cabf8e5f",
   "metadata": {},
   "outputs": [],
   "source": [
    "# Required imports\n",
    "import torch\n",
    "from PIL import Image\n",
    "from torchvision import transforms\n",
    "from torchvision import datasets\n",
    "%matplotlib inline\n",
    "from matplotlib import pyplot as plt\n",
    "import torch.optim as optim\n",
    "import pandas as pd\n",
    "import numpy as np\n",
    "import torch.nn as nn"
   ]
  },
  {
   "cell_type": "code",
   "execution_count": 9,
   "id": "4461e0ff",
   "metadata": {},
   "outputs": [
    {
     "name": "stdout",
     "output_type": "stream",
     "text": [
      "Files already downloaded and verified\n",
      "Files already downloaded and verified\n"
     ]
    }
   ],
   "source": [
    "import ssl\n",
    "ssl._create_default_https_context = ssl._create_unverified_context\n",
    "data_path = '../Data/Homework2/'\n",
    "cifar10 = datasets.CIFAR10(data_path, train=True, download=True,transform=transforms.ToTensor())\n",
    "cifar10_val = datasets.CIFAR10(data_path, train=False, download=True,transform=transforms.ToTensor())"
   ]
  },
  {
   "cell_type": "code",
   "execution_count": 12,
   "id": "49275f9d",
   "metadata": {},
   "outputs": [],
   "source": [
    "imgs = torch.stack([img_t for img_t, _ in cifar10], dim=3)\n",
    "imgs_val = torch.stack([img_t for img_t,_ in cifar10_val], dim=3)\n",
    "train_mean = imgs.view(3,-1).mean(dim=1)\n",
    "train_std = imgs.view(3,-1).std(dim=1)\n",
    "val_mean = imgs_val.view(3,-1).mean(dim=1)\n",
    "val_std = imgs_val.view(3,-1).std(dim=1)"
   ]
  },
  {
   "cell_type": "code",
   "execution_count": null,
   "id": "b1e36d63",
   "metadata": {},
   "outputs": [],
   "source": []
  }
 ],
 "metadata": {
  "kernelspec": {
   "display_name": "Python 3 (ipykernel)",
   "language": "python",
   "name": "python3"
  },
  "language_info": {
   "codemirror_mode": {
    "name": "ipython",
    "version": 3
   },
   "file_extension": ".py",
   "mimetype": "text/x-python",
   "name": "python",
   "nbconvert_exporter": "python",
   "pygments_lexer": "ipython3",
   "version": "3.9.7"
  }
 },
 "nbformat": 4,
 "nbformat_minor": 5
}
